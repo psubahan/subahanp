{
 "cells": [
  {
   "cell_type": "markdown",
   "metadata": {},
   "source": [
    "Pressure Monitoring in Oil & Gas Company using Azure Scenario\n",
    "   \n",
    "    Project Structure"
   ]
  },
  {
   "cell_type": "markdown",
   "metadata": {},
   "source": [
    "1.README.md\n",
    "\n",
    "  *Overview of the project, including its purpose, components, and how to set it up.\n",
    "\n",
    "  *Instructions for setting up Azure services and running the simulation.\n",
    "\n",
    "2.azure_pressure_monitoring.py\n",
    "\n",
    " *Python script that simulates a device sending pressure data to Azure IoT Hub.\n",
    "3.requirements.txt\n",
    "\n",
    "  *List of Python packages required for the project, including 'azure-iot-device'."
   ]
  },
  {
   "cell_type": "markdown",
   "metadata": {},
   "source": [
    "Python Script ('azure_pressure_monitoring.py')"
   ]
  },
  {
   "cell_type": "code",
   "execution_count": null,
   "metadata": {
    "vscode": {
     "languageId": "plaintext"
    }
   },
   "outputs": [],
   "source": [
    "import random\n",
    "import time\n",
    "from azure.iot.device import IoTHubDeviceClient, Message\n",
    "\n",
    "# Define the connection string for your IoT Hub\n",
    "conn_str = \"HostName=iothuboilandgas.azure-devices.net;DeviceId=PressureSensor01;SharedAccessKey=y1FkqxVeZJU9NTdGn32FWFnTTnwBj7KroAIoTMwvodA=\"\n",
    "device_id = \"PressureSensor01\"\n",
    "\n",
    "# Create an IoT Hub client instance\n",
    "client = IoTHubDeviceClient.create_from_connection_string(conn_str)\n",
    "\n",
    "def send_pressure_data():\n",
    "    try:\n",
    "        a =0\n",
    "        while a<5:\n",
    "            # Simulate pressure data\n",
    "            pressure_value = random.uniform(0, 100)\n",
    "            msg = Message('{\"deviceId\": \"' + device_id + '\", \"pressure\": ' + str(pressure_value) + '}')\n",
    "            print(\"Sending message: {}\".format(msg))\n",
    "            client.send_message(msg)\n",
    "            time.sleep(1)  # Send data every second\n",
    "            a +=1\n",
    "\n",
    "    except KeyboardInterrupt:\n",
    "        print(\"Simulated device stopped\")\n",
    "\n",
    "if __name__ == '__main__':\n",
    "   send_pressure_data()"
   ]
  },
  {
   "cell_type": "markdown",
   "metadata": {},
   "source": [
    "README.md"
   ]
  },
  {
   "cell_type": "markdown",
   "metadata": {},
   "source": [
    "# Pressure Monitoring in Oil & Gas Company using Azure\n",
    "\n",
    "This project simulates a pressure monitoring solution for an Oil & Gas Company using Microsoft Azure.\n",
    "\n",
    "### Problem Statement\n",
    "\n",
    "XYZ Oil & Gas Company requires continuous monitoring of pressure levels across its facilities to ensure operational safety and efficiency. This project aims to develop a pressure monitoring and analysis system using Azure to collect, analyze, and visualize pressure data in real-time.\n",
    "\n",
    "### Project Components\n",
    "\n",
    "1. **azure_pressure_monitoring.py**: Python script that simulates a device sending pressure data to Azure IoT Hub.\n",
    "\n",
    "### Setup Instructions\n",
    "\n",
    "1. **Azure IoT Hub Setup**:\n",
    "   - Create an Azure IoT Hub instance.\n",
    "   - Obtain the connection string for your IoT Hub.\n",
    "\n",
    "2. **Python Environment Setup**:\n",
    "   - Clone this repository.\n",
    "   - Install required Python packages:\n",
    "     ```\n",
    "     pip install -r requirements.txt\n",
    "     ```\n",
    "\n",
    "3. **Run the Simulation**:\n",
    "   - Update `azure_pressure_monitoring.py` with your IoT Hub connection string (`CONNECTION_STRING`).\n",
    "   - Execute the script:\n",
    "     ```\n",
    "     python azure_pressure_monitoring.py\n",
    "     ```\n",
    "   - The script will simulate sending pressure data to your Azure IoT Hub at regular intervals.\n",
    "\n",
    "### Next Steps\n",
    "\n",
    "- Implement Azure services for real-time data processing, storage, and visualization based on the collected pressure data.\n",
    "- Scale the solution to include multiple devices and optimize for production deployment.\n",
    "\n",
    "For more details, refer to the [Azure IoT Hub documentation](https://docs.microsoft.com/en-us/azure/iot-hub/).\n"
   ]
  },
  {
   "cell_type": "markdown",
   "metadata": {},
   "source": [
    "Explanation"
   ]
  },
  {
   "cell_type": "markdown",
   "metadata": {},
   "source": [
    "*azure_pressure_monitoring.py: This script uses the azure-iot-device Python package to simulate a device that sends JSON-formatted pressure data to Azure IoT Hub at regular intervals (INTERVAL seconds). Adjust generate_pressure() function as needed to simulate realistic pressure values.\n",
    "\n",
    "*README.md: Provides an overview of the project, setup instructions, and next steps. It guides users on how to set up Azure IoT Hub, configure the Python environment, and run the simulation script."
   ]
  }
 ],
 "metadata": {
  "language_info": {
   "name": "python"
  }
 },
 "nbformat": 4,
 "nbformat_minor": 2
}
